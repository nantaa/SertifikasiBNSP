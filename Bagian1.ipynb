{
  "nbformat": 4,
  "nbformat_minor": 0,
  "metadata": {
    "colab": {
      "name": "Bagian1.ipynb",
      "provenance": [],
      "collapsed_sections": []
    },
    "kernelspec": {
      "name": "python3",
      "display_name": "Python 3"
    },
    "language_info": {
      "name": "python"
    },
    "accelerator": "TPU"
  },
  "cells": [
    {
      "cell_type": "code",
      "execution_count": null,
      "metadata": {
        "id": "91s_veo0GH2b"
      },
      "outputs": [],
      "source": [
        "#install package tabulate nya\n",
        "!pip install tabulate "
      ]
    },
    {
      "cell_type": "code",
      "source": [
        "#import tabulate\n",
        "from tabulate import tabulate "
      ],
      "metadata": {
        "id": "DseGyGSrGKXa"
      },
      "execution_count": null,
      "outputs": []
    },
    {
      "cell_type": "code",
      "source": [
        "#assign datanya\n",
        "id = [1,2,3,4,5,6,7,8,9,10]\n",
        "angka = ['dua', 'empat', 'delapan', 'lima', 'tujuh', 'satu', 'tiga', 'enam', 'sepuluh', 'sembilan']"
      ],
      "metadata": {
        "id": "2g4ZRqqKGNAN"
      },
      "execution_count": null,
      "outputs": []
    },
    {
      "cell_type": "code",
      "source": [
        "#update dictionary nya\n",
        "angka = [2,4,8,5,7,1,3,6,10,9]\n",
        "print(angka)"
      ],
      "metadata": {
        "id": "QIevfsguGnAw"
      },
      "execution_count": null,
      "outputs": []
    },
    {
      "cell_type": "code",
      "source": [
        "#tampilkan tabelnya\n",
        "d = {'id' : id,\n",
        "    'angka' : angka}\n",
        "\n",
        "print(tabulate(d, headers='keys', tablefmt=\"grid\"))"
      ],
      "metadata": {
        "id": "ouhUkBZVGnDP"
      },
      "execution_count": null,
      "outputs": []
    },
    {
      "cell_type": "code",
      "source": [
        "#function untuk sortir ganjil-genap\n",
        "for i in angka:\n",
        "  if i % 2 == 0:  \n",
        "    print(f\"ID {id[angka.index(i)]} merupakan bilangan genap\")\n",
        "  else :\n",
        "    print(f\"ID {id[angka.index(i)]} merupakan bilangan ganjil\")"
      ],
      "metadata": {
        "id": "Doqh-g_bGsGd"
      },
      "execution_count": null,
      "outputs": []
    },
    {
      "cell_type": "code",
      "source": [
        "#hapus bilangan ganjil\n",
        "print(id)\n",
        "for i in reversed(angka):\n",
        "  if i & 1:\n",
        "    id.remove(angka.index(i)+1)\n",
        "    angka.remove(i)\n",
        "  else :\n",
        "    pass\n",
        "\n",
        "print(tabulate(d, headers='keys', tablefmt=\"grid\"))"
      ],
      "metadata": {
        "id": "1NHFOUEUKdss"
      },
      "execution_count": null,
      "outputs": []
    },
    {
      "cell_type": "code",
      "source": [
        "#hapus bilangan genap\n",
        "print(id)\n",
        "for i in reversed(angka):\n",
        "  if i & 1:\n",
        "    pass\n",
        "  else :\n",
        "    id.remove(angka.index(i)+1)\n",
        "    angka.remove(i)\n",
        "\n",
        "print(tabulate(d, headers='keys', tablefmt=\"grid\"))"
      ],
      "metadata": {
        "id": "UVSfOB1XMOP3"
      },
      "execution_count": null,
      "outputs": []
    },
    {
      "cell_type": "code",
      "source": [
        ""
      ],
      "metadata": {
        "id": "LEHBTVrmU_cY"
      },
      "execution_count": null,
      "outputs": []
    }
  ]
}